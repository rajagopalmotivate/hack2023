{
  "nbformat": 4,
  "nbformat_minor": 0,
  "metadata": {
    "accelerator": "GPU",
    "colab": {
      "provenance": [],
      "include_colab_link": true
    },
    "kernelspec": {
      "display_name": "Python 3",
      "name": "python3"
    }
  },
  "cells": [
    {
      "cell_type": "markdown",
      "metadata": {
        "id": "view-in-github",
        "colab_type": "text"
      },
      "source": [
        "<a href=\"https://colab.research.google.com/github/rajagopalmotivate/hack2023/blob/main/Mental_health_CBT_Therapy_Finetune_BERT_GPT_2_v2.ipynb\" target=\"_parent\"><img src=\"https://colab.research.google.com/assets/colab-badge.svg\" alt=\"Open In Colab\"/></a>"
      ]
    },
    {
      "cell_type": "markdown",
      "source": [
        "# Inner Beauty spa: ELC Hack 2023 "
      ],
      "metadata": {
        "id": "CLw6aWK9LkgS"
      }
    },
    {
      "cell_type": "markdown",
      "metadata": {
        "id": "H7LoMj4GA4n_"
      },
      "source": [
        "#  Mental health expert fine tunes a GPT-2 model  \n",
        " \n"
      ]
    },
    {
      "cell_type": "code",
      "metadata": {
        "colab": {
          "base_uri": "https://localhost:8080/"
        },
        "id": "KBkpRgBCBS2_",
        "outputId": "9638efb4-9354-4196-f482-52ab11c27680"
      },
      "source": [
        " \n",
        "!pip install -q gpt-2-simple\n",
        "import gpt_2_simple as gpt2\n",
        "from datetime import datetime\n",
        "from google.colab import files"
      ],
      "execution_count": null,
      "outputs": [
        {
          "output_type": "stream",
          "name": "stdout",
          "text": [
            "  Building wheel for gpt-2-simple (setup.py) ... \u001b[?25l\u001b[?25hdone\n"
          ]
        }
      ]
    },
    {
      "cell_type": "markdown",
      "metadata": {
        "id": "0wXB05bPDYxS"
      },
      "source": [
        "## Downloading GPT-2\n",
        "\n",
        "The default query returns 1.3MB of data, so probably should only use `124M` GPT-2 to finetune. If working with more Reddity data, then migrate to `355M`."
      ]
    },
    {
      "cell_type": "code",
      "metadata": {
        "colab": {
          "base_uri": "https://localhost:8080/"
        },
        "id": "P8wSlgXoDPCR",
        "outputId": "23a50369-3ba4-45af-e6e3-fc95e6a6ebee"
      },
      "source": [
        "gpt2.download_gpt2(model_name=\"124M\")"
      ],
      "execution_count": null,
      "outputs": [
        {
          "output_type": "stream",
          "name": "stderr",
          "text": [
            "Fetching checkpoint: 1.05Mit [00:00, 206Mit/s]                                                      \n",
            "Fetching encoder.json: 1.05Mit [00:00, 2.82Mit/s]\n",
            "Fetching hparams.json: 1.05Mit [00:00, 589Mit/s]                                                    \n",
            "Fetching model.ckpt.data-00000-of-00001: 498Mit [00:16, 29.6Mit/s]                                  \n",
            "Fetching model.ckpt.index: 1.05Mit [00:00, 553Mit/s]                                                \n",
            "Fetching model.ckpt.meta: 1.05Mit [00:00, 4.39Mit/s]\n",
            "Fetching vocab.bpe: 1.05Mit [00:00, 4.68Mit/s]\n"
          ]
        }
      ]
    },
    {
      "cell_type": "markdown",
      "metadata": {
        "id": "N8KXuKWzQSsN"
      },
      "source": [
        "\n",
        "\n",
        "```\n",
        "# This is formatted as code\n",
        "```\n",
        "\n",
        "## Mental health professional provides her input here.\n",
        "\n"
      ]
    },
    {
      "cell_type": "code",
      "metadata": {
        "id": "puq4iC6vUAHc"
      },
      "source": [],
      "execution_count": null,
      "outputs": []
    },
    {
      "cell_type": "code",
      "metadata": {
        "id": "hdnxIwvb5Rxf"
      },
      "source": [
        "LISTOFDEPRESSIONSITATION = [ 'lost my job ', 'i got fired ', 'i am unemployed ' , 'i am unable to pay bill ']"
      ],
      "execution_count": null,
      "outputs": []
    },
    {
      "cell_type": "code",
      "metadata": {
        "id": "-3rfg-pl8P8y"
      },
      "source": [
        "LISTOFDEPRESSIONTHOUGHTS = [ 'i am depressed', 'i feel so low', 'i am mentally depressed' , 'i am so much in sorrow', 'i am so dull',  'i am tired of life' , 'i am depressed all night', 'i am so low' ]"
      ],
      "execution_count": null,
      "outputs": []
    },
    {
      "cell_type": "code",
      "metadata": {
        "id": "VMh-BkWs82Yg"
      },
      "source": [
        "LISTOFCBTBELFIFS = ['i am smart', 'i am good', 'i am well educated', 'i am cool', 'i am well qualified', 'i am intelligent', 'i have managed worser things than this', 'i am quite smart ', ' i have lot of hope on the future', 'i have saved enough', 'i am very smart', 'i have a good reputation', ' i have a supportive family', 'my firends say i am smart', 'my family say i am smart compared to others', 'my friend is kind to me', 'my family is so supportive']"
      ],
      "execution_count": null,
      "outputs": []
    },
    {
      "cell_type": "code",
      "metadata": {
        "id": "EM5iPyhNGN5K"
      },
      "source": [
        "LISTOFCBTBELFIFSCONNECTIONS = [' . i remember', ', but fortunately ', ' , but luckily for me ', ', ' , ' . I know ', ' .Let me recollect that ', ' . Let me keep remembering that ', ' . Let me feel thankful that ', ' . ']"
      ],
      "execution_count": null,
      "outputs": []
    },
    {
      "cell_type": "code",
      "metadata": {
        "id": "FSuwo0hi7lSP"
      },
      "source": [],
      "execution_count": null,
      "outputs": []
    },
    {
      "cell_type": "code",
      "metadata": {
        "id": "dcRi5bWL7lpr"
      },
      "source": [
        "import random\n"
      ],
      "execution_count": null,
      "outputs": []
    },
    {
      "cell_type": "code",
      "metadata": {
        "id": "u4SsXz1aHdLy"
      },
      "source": [
        "def getaRandomword(mylistofword):\n",
        "  return mylistofword[random.randint(0, len(mylistofword) -1) ]\n"
      ],
      "execution_count": null,
      "outputs": []
    },
    {
      "cell_type": "code",
      "metadata": {
        "id": "UffzLJnfItFA"
      },
      "source": [
        "def getaRandomsequence(seq1, seq2):\n",
        "  concatsimilarmeaningwords = ['  ', ' ', ' and ']\n",
        "  randomnumber = random.randint(0,1)\n",
        "  ans = \"\"\n",
        "  if randomnumber == 0:\n",
        "    ans = seq1 +  getaRandomword(concatsimilarmeaningwords) + seq2\n",
        "  else :\n",
        "    ans = seq2 + getaRandomword(concatsimilarmeaningwords) + seq1    \n",
        "  return ans\n"
      ],
      "execution_count": null,
      "outputs": []
    },
    {
      "cell_type": "code",
      "metadata": {
        "id": "UfFE98jxG-Hu"
      },
      "source": [
        "aLISTOFDEPRESSIONSITATION = getaRandomword(LISTOFDEPRESSIONSITATION)\n",
        "aLISTOFDEPRESSIONTHOUGHTS = getaRandomword(LISTOFDEPRESSIONTHOUGHTS)\n",
        "aLISTOFCBTBELFIFS = getaRandomword(LISTOFCBTBELFIFS)\n",
        "aLISTOFCBTBELFIFSCONNECTIONS = getaRandomword(LISTOFCBTBELFIFSCONNECTIONS)\n"
      ],
      "execution_count": null,
      "outputs": []
    },
    {
      "cell_type": "code",
      "metadata": {
        "id": "ux3fuHilH2Z0"
      },
      "source": [
        "asentance =  aLISTOFDEPRESSIONTHOUGHTS +  \" \"+ aLISTOFCBTBELFIFSCONNECTIONS + \" \" + aLISTOFCBTBELFIFS  "
      ],
      "execution_count": null,
      "outputs": []
    },
    {
      "cell_type": "code",
      "metadata": {
        "colab": {
          "base_uri": "https://localhost:8080/",
          "height": 35
        },
        "id": "ThwHY2Nrnops",
        "outputId": "8ef0b70e-65d3-43a2-ec27-f1a166a93e8b"
      },
      "source": [
        "asentance"
      ],
      "execution_count": null,
      "outputs": [
        {
          "output_type": "execute_result",
          "data": {
            "text/plain": [
              "'i am so low  .  my firends say i am smart'"
            ],
            "application/vnd.google.colaboratory.intrinsic+json": {
              "type": "string"
            }
          },
          "metadata": {},
          "execution_count": 12
        }
      ]
    },
    {
      "cell_type": "code",
      "metadata": {
        "id": "yzFqz6cdnJ-F"
      },
      "source": [
        "import pandas as pd\n",
        "df = pd.DataFrame([asentance])\n",
        "\n",
        "for i in range(4098):\n",
        "  aLISTOFDEPRESSIONSITATION = getaRandomword(LISTOFDEPRESSIONSITATION)\n",
        "  aLISTOFDEPRESSIONTHOUGHTS = getaRandomword(LISTOFDEPRESSIONTHOUGHTS)\n",
        "  aLISTOFCBTBELFIFS = getaRandomword(LISTOFCBTBELFIFS)\n",
        "  aLISTOFCBTBELFIFSCONNECTIONS = getaRandomword(LISTOFCBTBELFIFSCONNECTIONS)\n",
        "  asentance = getaRandomsequence(aLISTOFDEPRESSIONSITATION , aLISTOFDEPRESSIONTHOUGHTS) +  \" \"+ aLISTOFCBTBELFIFSCONNECTIONS + \" \" + aLISTOFCBTBELFIFS \n",
        "\n",
        "\n",
        "  #asentance =   \" \"+ aLISTOFCBTBELFIFSCONNECTIONS + \" \" + aLISTOFCBTBELFIFS   \n",
        "  dfnew = pd.DataFrame([asentance])\n",
        "  df = df.append(dfnew)\n",
        "\n",
        "\n"
      ],
      "execution_count": null,
      "outputs": []
    },
    {
      "cell_type": "code",
      "metadata": {
        "id": "qbfvJzDGoPRd"
      },
      "source": [
        " "
      ],
      "execution_count": null,
      "outputs": []
    },
    {
      "cell_type": "code",
      "metadata": {
        "id": "lG85EOPHouac"
      },
      "source": [
        "df.to_csv('myDataFrame.csv', index=False, header=False  )\n"
      ],
      "execution_count": null,
      "outputs": []
    },
    {
      "cell_type": "code",
      "metadata": {
        "colab": {
          "base_uri": "https://localhost:8080/",
          "height": 34
        },
        "id": "HulLufQOoxxR",
        "outputId": "42e88d86-3a7c-4df6-b96e-c368d959ba99"
      },
      "source": [
        "from google.colab import files\n",
        "files.download('myDataFrame.csv')"
      ],
      "execution_count": null,
      "outputs": [
        {
          "output_type": "display_data",
          "data": {
            "text/plain": [
              "<IPython.core.display.Javascript object>"
            ],
            "application/javascript": [
              "\n",
              "    async function download(id, filename, size) {\n",
              "      if (!google.colab.kernel.accessAllowed) {\n",
              "        return;\n",
              "      }\n",
              "      const div = document.createElement('div');\n",
              "      const label = document.createElement('label');\n",
              "      label.textContent = `Downloading \"${filename}\": `;\n",
              "      div.appendChild(label);\n",
              "      const progress = document.createElement('progress');\n",
              "      progress.max = size;\n",
              "      div.appendChild(progress);\n",
              "      document.body.appendChild(div);\n",
              "\n",
              "      const buffers = [];\n",
              "      let downloaded = 0;\n",
              "\n",
              "      const channel = await google.colab.kernel.comms.open(id);\n",
              "      // Send a message to notify the kernel that we're ready.\n",
              "      channel.send({})\n",
              "\n",
              "      for await (const message of channel.messages) {\n",
              "        // Send a message to notify the kernel that we're ready.\n",
              "        channel.send({})\n",
              "        if (message.buffers) {\n",
              "          for (const buffer of message.buffers) {\n",
              "            buffers.push(buffer);\n",
              "            downloaded += buffer.byteLength;\n",
              "            progress.value = downloaded;\n",
              "          }\n",
              "        }\n",
              "      }\n",
              "      const blob = new Blob(buffers, {type: 'application/binary'});\n",
              "      const a = document.createElement('a');\n",
              "      a.href = window.URL.createObjectURL(blob);\n",
              "      a.download = filename;\n",
              "      div.appendChild(a);\n",
              "      a.click();\n",
              "      div.remove();\n",
              "    }\n",
              "  "
            ]
          },
          "metadata": {}
        },
        {
          "output_type": "display_data",
          "data": {
            "text/plain": [
              "<IPython.core.display.Javascript object>"
            ],
            "application/javascript": [
              "download(\"download_a75cdab7-2fe0-430c-b50e-7e1407188e72\", \"myDataFrame.csv\", 322193)"
            ]
          },
          "metadata": {}
        }
      ]
    },
    {
      "cell_type": "markdown",
      "metadata": {
        "id": "BT__brhBCvJu"
      },
      "source": [
        "## This mental health professional can upload her experiences in a CSV file \n",
        "\n",
        "A single-column CSV is expected."
      ]
    },
    {
      "cell_type": "code",
      "metadata": {
        "id": "POKuPdA8zLzq"
      },
      "source": [
        "# file upload  "
      ],
      "execution_count": null,
      "outputs": []
    },
    {
      "cell_type": "code",
      "metadata": {
        "id": "6OFnPCLADfll"
      },
      "source": [
        "file_name = \"myDataFrame.csv\""
      ],
      "execution_count": null,
      "outputs": []
    },
    {
      "cell_type": "code",
      "metadata": {
        "id": "-Z6okFD8VKtS"
      },
      "source": [],
      "execution_count": null,
      "outputs": []
    },
    {
      "cell_type": "markdown",
      "metadata": {
        "id": "LdpZQXknFNY3"
      },
      "source": [
        "## Mental health professional trains the GPT-2 model\n",
        "\n",
        "Providing a single-column CSV will automatically add `<|startoftext|>` and `<|endoftext|>` tokens appropriately.\n",
        "\n",
        "Short form text is more likely to overfit, so train it with fewer steps than you would for longform content."
      ]
    },
    {
      "cell_type": "code",
      "metadata": {
        "colab": {
          "base_uri": "https://localhost:8080/"
        },
        "id": "aeXshJM-Cuaf",
        "outputId": "a7f5bb7a-ff56-4f2e-b0fc-bfafa4c511ca"
      },
      "source": [
        "sess = gpt2.start_tf_sess()\n",
        "\n",
        "gpt2.finetune(sess,\n",
        "              dataset=file_name,\n",
        "              model_name='124M',\n",
        "              steps=100,\n",
        "              restore_from='fresh',\n",
        "              run_name='run2',\n",
        "              print_every=10,\n",
        "              sample_every=90\n",
        "              )"
      ],
      "execution_count": null,
      "outputs": [
        {
          "output_type": "stream",
          "name": "stdout",
          "text": [
            "Loading checkpoint models/124M/model.ckpt\n",
            "Loading dataset...\n"
          ]
        },
        {
          "output_type": "stream",
          "name": "stderr",
          "text": [
            "100%|██████████| 1/1 [00:00<00:00, 130.27it/s]\n"
          ]
        },
        {
          "output_type": "stream",
          "name": "stdout",
          "text": [
            "dataset has 145332 tokens\n",
            "Training...\n",
            "[10 | 27.31] loss=0.68 avg=0.68\n",
            "[20 | 49.73] loss=0.45 avg=0.57\n",
            "[30 | 72.34] loss=0.36 avg=0.50\n",
            "[40 | 94.56] loss=0.33 avg=0.45\n",
            "[50 | 116.72] loss=0.33 avg=0.43\n",
            "[60 | 139.03] loss=0.31 avg=0.41\n",
            "[70 | 161.39] loss=0.31 avg=0.39\n",
            "[80 | 183.69] loss=0.31 avg=0.38\n",
            "[90 | 205.92] loss=0.31 avg=0.38\n",
            "======== SAMPLE 1 ========\n",
            " bill is good<|endoftext|>\n",
            "<|startoftext|>i am so low i got fired   . i remember i am good<|endoftext|>\n",
            "<|startoftext|>i am depressed  lost my job   . Let me keep remembering that  my firends say i am smart<|endoftext|>\n",
            "<|startoftext|>lost my job  and i am mentally depressed  , but luckily for me   i have lot of hope on the future<|endoftext|>\n",
            "<|startoftext|>i got fired   i am so much in sorrow  .Let me recollect that  i have managed worser things than this<|endoftext|>\n",
            "<|startoftext|>lost my job   i am so low  .  i have a good reputation<|endoftext|>\n",
            "<|startoftext|>lost my job   i am mentally depressed  . Let me keep remembering that  i have managed worser things than this<|endoftext|>\n",
            "<|startoftext|>lost my job   i am so much in sorrow  . Let me keep remembering that  i am smart<|endoftext|>\n",
            "<|startoftext|>lost my job   i am so low , but fortunately  i am well educated<|endoftext|>\n",
            "<|startoftext|>i got fired   i am tired of life  , but luckily for me  i am quite smart <|endoftext|>\n",
            "<|startoftext|>i am depressed all night  i have managed worser things than this  .  i have saved enough<|endoftext|>\n",
            "<|startoftext|>i got fired   i am mentally depressed  . Let me keep remembering that  i am good<|endoftext|>\n",
            "<|startoftext|>i feel so low lost my job   . i remember i am good<|endoftext|>\n",
            "<|startoftext|>i am so dull i am unable to pay bill   . Let me feel thankful that  i have saved enough<|endoftext|>\n",
            "<|startoftext|>i feel so low  lost my job   . Let me feel thankful that  i am well educated<|endoftext|>\n",
            "<|startoftext|>i am so dull  lost my job   . Let me keep remembering that  i am quite smart <|endoftext|>\n",
            "<|startoftext|>i am unemployed  and i am tired of life , but fortunately  i have managed worser things than this<|endoftext|>\n",
            "<|startoftext|>lost my job  and i am tired of life  .Let me recollect that  i am intelligent<|endoftext|>\n",
            "<|startoftext|>i am depressed all night  i am unable to pay bill   . I know  i have a good reputation<|endoftext|>\n",
            "<|startoftext|>i am tired of life i am unemployed   .  i am intelligent<|endoftext|>\n",
            "<|startoftext|>i am unable to pay bill  and i feel so low  .Let me recollect that  i am very smart<|endoftext|>\n",
            "<|startoftext|>i am unable to pay bill   i feel so low ,  my family is so supportive<|endoftext|>\n",
            "<|startoftext|>i am depressed all night  lost my job  , but fortunately  i am well qualified<|endoftext|>\n",
            "<|startoftext|>i feel so low and i got fired   . Let me keep remembering that  my friend is kind to me<|endoftext|>\n",
            "<|startoftext|>i am depressed  i am unable to pay bill  , but fortunately  i have saved enough<|endoftext|>\n",
            "<|startoftext|>i am tired of life i got fired  ,  i am very smart<|endoftext|>\n",
            "<|startoftext|>i got fired  and i am tired of life  . Let me keep remembering that  my firends say i am smart<|endoftext|>\n",
            "<|startoftext|>i am depressed  i am unable to pay bill   .  i am quite smart <|endoftext|>\n",
            "<|startoftext|>i am so much in sorrow  i am unable to pay bill   . Let me feel thankful that  i am well educated<|endoftext|>\n",
            "<|startoftext|>i am unemployed\n",
            "\n",
            "[100 | 240.86] loss=0.30 avg=0.37\n",
            "Saving checkpoint/run2/model-100\n"
          ]
        }
      ]
    },
    {
      "cell_type": "code",
      "metadata": {
        "id": "gpCG6XlPyNaR"
      },
      "source": [],
      "execution_count": null,
      "outputs": []
    },
    {
      "cell_type": "code",
      "metadata": {
        "id": "VHdTL8NDbAh3"
      },
      "source": [
        "#gpt2.copy_checkpoint_to_gdrive(run_name='run1')"
      ],
      "execution_count": null,
      "outputs": []
    },
    {
      "cell_type": "markdown",
      "metadata": {
        "id": "pel-uBULXO2L"
      },
      "source": [
        "## Load a Trained Model Checkpoint"
      ]
    },
    {
      "cell_type": "code",
      "metadata": {
        "id": "DCcx5u7sbPTD"
      },
      "source": [
        "#@title\n",
        "#gpt2.copy_checkpoint_from_gdrive(run_name='run1')"
      ],
      "execution_count": null,
      "outputs": []
    },
    {
      "cell_type": "code",
      "metadata": {
        "id": "-fxL77nvAMAX"
      },
      "source": [
        "#@title\n",
        "#sess = gpt2.start_tf_sess()\n",
        "#gpt2.load_gpt2(sess, run_name='run2')"
      ],
      "execution_count": null,
      "outputs": []
    },
    {
      "cell_type": "markdown",
      "metadata": {
        "id": "ClJwpF_ACONp"
      },
      "source": [
        "## The patient can use this AI for instant CBT therapy \n",
        "\n"
      ]
    },
    {
      "cell_type": "code",
      "metadata": {
        "colab": {
          "base_uri": "https://localhost:8080/"
        },
        "id": "Da7Rp9z31iLL",
        "outputId": "d29ffade-a284-4e11-b6ba-011b08259e2a"
      },
      "source": [
        "#@title The user speaks or types her thoughts into her smartphone AI keyboard. { run: \"auto\" }\n",
        " \n",
        "user_thoughts = 'i lost my job' #@param {type:\"string\"}\n",
        "\n",
        "userthoughts = \"<|startoftext|> \" +  user_thoughts\n",
        "\n",
        "gpt2.generate(sess, run_name='run2',\n",
        "             length=100,\n",
        "             prefix=userthoughts,\n",
        "             truncate=\"<|endoftext|>\",\n",
        "             include_prefix=False)\n",
        "\n",
        "\n"
      ],
      "execution_count": null,
      "outputs": [
        {
          "output_type": "stream",
          "name": "stdout",
          "text": [
            "  , but fortunately  i am well qualified\n"
          ]
        }
      ]
    },
    {
      "cell_type": "code",
      "metadata": {
        "colab": {
          "base_uri": "https://localhost:8080/"
        },
        "id": "LH1toY7gBxdP",
        "outputId": "ed594b2a-bee7-4676-98ad-8de83af05df4"
      },
      "source": [
        " gpt2.generate(sess, run_name='run2',\n",
        "              length=100,\n",
        "              temperature=1.0,\n",
        "              nsamples=10,\n",
        "              batch_size=10,\n",
        "              prefix=userthoughts,\n",
        "              truncate=\"<|endoftext|>\",\n",
        "              include_prefix=False\n",
        "              )"
      ],
      "execution_count": null,
      "outputs": [
        {
          "output_type": "stream",
          "name": "stdout",
          "text": [
            "  and i feel so low  . I know  i have family so much  . Let me feel thankful that  i am cool\n",
            "====================\n",
            "  and i feel so low ,  my friend is kind to me\n",
            "====================\n",
            "   . i remember i am smart\n",
            "====================\n",
            "   . i remember  i have a supportive family\n",
            "====================\n",
            "  and i am depressed  . I know  my family say i am smart compared to others\n",
            "====================\n",
            "  and i am tired of life  . Let me keep remembering that  my firends say i am smart\n",
            "====================\n",
            "  and i am so much in sorrow  , but luckily for me  i am cool\n",
            "====================\n",
            "   i am tired of life  . I know   i have lot of hope on the future\n",
            "====================\n",
            "  and i am tired of life  . I know  my family is so supportive\n",
            "====================\n",
            "   . i remember my family is so supportive\n",
            "====================\n"
          ]
        }
      ]
    },
    {
      "cell_type": "code",
      "metadata": {
        "colab": {
          "base_uri": "https://localhost:8080/"
        },
        "id": "ZuiixKum1y5Z",
        "outputId": "997b510b-9e33-4b4b-cf5e-c53ebd1ec679"
      },
      "source": [
        "gpt2.generate(sess, run_name='run2',\n",
        "              length=100,\n",
        "              temperature=1.0,\n",
        "              nsamples=10,\n",
        "              batch_size=10,\n",
        "              prefix=userthoughts,\n",
        "              truncate=\"<|endoftext|>\",\n",
        "              include_prefix=False\n",
        "              )"
      ],
      "execution_count": null,
      "outputs": [
        {
          "output_type": "stream",
          "name": "stdout",
          "text": [
            "  and i am depressed  . I know  my family say i am smart compared to others\n",
            "====================\n",
            "  and i feel so low  .  i have managed worser things than this\n",
            "====================\n",
            "  ,  i am quite smart \n",
            "====================\n",
            "   .Let me recollect that  i am very smart\n",
            "====================\n",
            "   . i remember my family say i am smart compared to others\n",
            "====================\n",
            "   , but luckily for me  i am well educated\n",
            "====================\n",
            "   . I know  i am well qualified\n",
            "====================\n",
            "   .  i am intelligent\n",
            "====================\n",
            "   . Let me keep remembering that  i have managed worser things than this\n",
            "====================\n",
            "  i am depressed all night  . Let me keep remembering that  i am well educated\n",
            "====================\n"
          ]
        }
      ]
    },
    {
      "cell_type": "code",
      "metadata": {
        "id": "4RNY6RBI9LmL"
      },
      "source": [
        " "
      ],
      "execution_count": null,
      "outputs": []
    },
    {
      "cell_type": "code",
      "metadata": {
        "id": "B02_twQ3ogyI"
      },
      "source": [
        " "
      ],
      "execution_count": null,
      "outputs": []
    },
    {
      "cell_type": "code",
      "metadata": {
        "id": "8DKMc0fiej4N"
      },
      "source": [],
      "execution_count": null,
      "outputs": []
    },
    {
      "cell_type": "markdown",
      "metadata": {
        "id": "J76IkIY2UjQu"
      },
      "source": [
        "# train BERT to prepare a new AI model on BERT--GPT2 cascade  "
      ]
    },
    {
      "cell_type": "code",
      "metadata": {
        "colab": {
          "base_uri": "https://localhost:8080/",
          "height": 1000
        },
        "id": "bWwBjzF5qN-m",
        "outputId": "c1a14a0e-d4f2-4970-a697-cc8ebdec9a51"
      },
      "source": [
        " #@title\n",
        "# import lots of stuff\n",
        "# install ktrain on Google Colab\n",
        "!pip3 install ktrain==0.7.2\n",
        "\n",
        "# import ktrain and the ktrain.text modules\n",
        "import ktrain\n",
        "from ktrain import text\n",
        "import random\n",
        "\n",
        "ktrain.__version__\n",
        "\n",
        " \n",
        "\n"
      ],
      "execution_count": null,
      "outputs": [
        {
          "output_type": "stream",
          "name": "stdout",
          "text": [
            "Looking in indexes: https://pypi.org/simple, https://us-python.pkg.dev/colab-wheels/public/simple/\n",
            "Collecting ktrain==0.7.2\n",
            "  Downloading ktrain-0.7.2.tar.gz (88 kB)\n",
            "\u001b[K     |████████████████████████████████| 88 kB 8.6 MB/s \n",
            "\u001b[?25hCollecting scikit-learn==0.21.3\n",
            "  Downloading scikit-learn-0.21.3.tar.gz (12.2 MB)\n",
            "\u001b[K     |████████████████████████████████| 12.2 MB 70.5 MB/s \n",
            "\u001b[?25hRequirement already satisfied: matplotlib>=3.0.0 in /usr/local/lib/python3.8/dist-packages (from ktrain==0.7.2) (3.2.2)\n",
            "Requirement already satisfied: pandas>=0.24.2 in /usr/local/lib/python3.8/dist-packages (from ktrain==0.7.2) (1.3.5)\n",
            "Requirement already satisfied: fastprogress>=0.1.21 in /usr/local/lib/python3.8/dist-packages (from ktrain==0.7.2) (1.0.3)\n",
            "Collecting keras_bert\n",
            "  Downloading keras-bert-0.89.0.tar.gz (25 kB)\n",
            "Requirement already satisfied: requests in /usr/local/lib/python3.8/dist-packages (from ktrain==0.7.2) (2.23.0)\n",
            "Requirement already satisfied: joblib in /usr/local/lib/python3.8/dist-packages (from ktrain==0.7.2) (1.2.0)\n",
            "Collecting langdetect\n",
            "  Downloading langdetect-1.0.9.tar.gz (981 kB)\n",
            "\u001b[K     |████████████████████████████████| 981 kB 66.1 MB/s \n",
            "\u001b[?25hRequirement already satisfied: jieba in /usr/local/lib/python3.8/dist-packages (from ktrain==0.7.2) (0.42.1)\n",
            "Collecting cchardet\n",
            "  Downloading cchardet-2.1.7-cp38-cp38-manylinux2010_x86_64.whl (265 kB)\n",
            "\u001b[K     |████████████████████████████████| 265 kB 78.4 MB/s \n",
            "\u001b[?25hCollecting networkx==2.3\n",
            "  Downloading networkx-2.3.zip (1.7 MB)\n",
            "\u001b[K     |████████████████████████████████| 1.7 MB 68.9 MB/s \n",
            "\u001b[?25hRequirement already satisfied: bokeh in /usr/local/lib/python3.8/dist-packages (from ktrain==0.7.2) (2.3.3)\n",
            "Collecting seqeval\n",
            "  Downloading seqeval-1.2.2.tar.gz (43 kB)\n",
            "\u001b[K     |████████████████████████████████| 43 kB 2.3 MB/s \n",
            "\u001b[?25hRequirement already satisfied: packaging in /usr/local/lib/python3.8/dist-packages (from ktrain==0.7.2) (21.3)\n",
            "Requirement already satisfied: decorator>=4.3.0 in /usr/local/lib/python3.8/dist-packages (from networkx==2.3->ktrain==0.7.2) (4.4.2)\n",
            "Requirement already satisfied: numpy>=1.11.0 in /usr/local/lib/python3.8/dist-packages (from scikit-learn==0.21.3->ktrain==0.7.2) (1.21.6)\n",
            "Requirement already satisfied: scipy>=0.17.0 in /usr/local/lib/python3.8/dist-packages (from scikit-learn==0.21.3->ktrain==0.7.2) (1.7.3)\n",
            "Requirement already satisfied: python-dateutil>=2.1 in /usr/local/lib/python3.8/dist-packages (from matplotlib>=3.0.0->ktrain==0.7.2) (2.8.2)\n",
            "Requirement already satisfied: kiwisolver>=1.0.1 in /usr/local/lib/python3.8/dist-packages (from matplotlib>=3.0.0->ktrain==0.7.2) (1.4.4)\n",
            "Requirement already satisfied: pyparsing!=2.0.4,!=2.1.2,!=2.1.6,>=2.0.1 in /usr/local/lib/python3.8/dist-packages (from matplotlib>=3.0.0->ktrain==0.7.2) (3.0.9)\n",
            "Requirement already satisfied: cycler>=0.10 in /usr/local/lib/python3.8/dist-packages (from matplotlib>=3.0.0->ktrain==0.7.2) (0.11.0)\n",
            "Requirement already satisfied: pytz>=2017.3 in /usr/local/lib/python3.8/dist-packages (from pandas>=0.24.2->ktrain==0.7.2) (2022.6)\n",
            "Requirement already satisfied: six>=1.5 in /usr/local/lib/python3.8/dist-packages (from python-dateutil>=2.1->matplotlib>=3.0.0->ktrain==0.7.2) (1.15.0)\n",
            "Requirement already satisfied: typing-extensions>=3.7.4 in /usr/local/lib/python3.8/dist-packages (from bokeh->ktrain==0.7.2) (4.1.1)\n",
            "Requirement already satisfied: PyYAML>=3.10 in /usr/local/lib/python3.8/dist-packages (from bokeh->ktrain==0.7.2) (6.0)\n",
            "Requirement already satisfied: tornado>=5.1 in /usr/local/lib/python3.8/dist-packages (from bokeh->ktrain==0.7.2) (6.0.4)\n",
            "Requirement already satisfied: Jinja2>=2.9 in /usr/local/lib/python3.8/dist-packages (from bokeh->ktrain==0.7.2) (2.11.3)\n",
            "Requirement already satisfied: pillow>=7.1.0 in /usr/local/lib/python3.8/dist-packages (from bokeh->ktrain==0.7.2) (7.1.2)\n",
            "Requirement already satisfied: MarkupSafe>=0.23 in /usr/local/lib/python3.8/dist-packages (from Jinja2>=2.9->bokeh->ktrain==0.7.2) (2.0.1)\n",
            "Collecting keras-transformer==0.40.0\n",
            "  Downloading keras-transformer-0.40.0.tar.gz (9.7 kB)\n",
            "Collecting keras-pos-embd==0.13.0\n",
            "  Downloading keras-pos-embd-0.13.0.tar.gz (5.6 kB)\n",
            "Collecting keras-multi-head==0.29.0\n",
            "  Downloading keras-multi-head-0.29.0.tar.gz (13 kB)\n",
            "Collecting keras-layer-normalization==0.16.0\n",
            "  Downloading keras-layer-normalization-0.16.0.tar.gz (3.9 kB)\n",
            "Collecting keras-position-wise-feed-forward==0.8.0\n",
            "  Downloading keras-position-wise-feed-forward-0.8.0.tar.gz (4.1 kB)\n",
            "Collecting keras-embed-sim==0.10.0\n",
            "  Downloading keras-embed-sim-0.10.0.tar.gz (3.6 kB)\n",
            "Collecting keras-self-attention==0.51.0\n",
            "  Downloading keras-self-attention-0.51.0.tar.gz (11 kB)\n",
            "Requirement already satisfied: chardet<4,>=3.0.2 in /usr/local/lib/python3.8/dist-packages (from requests->ktrain==0.7.2) (3.0.4)\n",
            "Requirement already satisfied: urllib3!=1.25.0,!=1.25.1,<1.26,>=1.21.1 in /usr/local/lib/python3.8/dist-packages (from requests->ktrain==0.7.2) (1.24.3)\n",
            "Requirement already satisfied: idna<3,>=2.5 in /usr/local/lib/python3.8/dist-packages (from requests->ktrain==0.7.2) (2.10)\n",
            "Requirement already satisfied: certifi>=2017.4.17 in /usr/local/lib/python3.8/dist-packages (from requests->ktrain==0.7.2) (2022.9.24)\n",
            "Building wheels for collected packages: ktrain, networkx, scikit-learn, keras-bert, keras-transformer, keras-embed-sim, keras-layer-normalization, keras-multi-head, keras-pos-embd, keras-position-wise-feed-forward, keras-self-attention, langdetect, seqeval\n",
            "  Building wheel for ktrain (setup.py) ... \u001b[?25l\u001b[?25hdone\n",
            "  Created wheel for ktrain: filename=ktrain-0.7.2-py3-none-any.whl size=113494 sha256=c680e86a92991914deb849a0351d3636c5e7afb187b406a45f2c03a1f71e2e9d\n",
            "  Stored in directory: /root/.cache/pip/wheels/2b/61/f7/f632428fb1eb91bbcf9de23a91c45289b39520bdbf7b147844\n",
            "  Building wheel for networkx (setup.py) ... \u001b[?25l\u001b[?25hdone\n",
            "  Created wheel for networkx: filename=networkx-2.3-py2.py3-none-any.whl size=1556009 sha256=b2d707dee98240f128bd8758cd1fb76b1d89442dd63a0b2b8ae4aa9c230a8cd7\n",
            "  Stored in directory: /root/.cache/pip/wheels/ff/62/9e/0ed2d25fd4f5761e2d19568cda0c32716556dfa682e65ecf64\n",
            "  Building wheel for scikit-learn (setup.py) ... \u001b[?25l\u001b[?25hdone\n",
            "  Created wheel for scikit-learn: filename=scikit_learn-0.21.3-cp38-cp38-linux_x86_64.whl size=18390975 sha256=5cfb0087d6152dd66c31a49193388985a2c307c16c3266c612baf3d7c5e83435\n",
            "  Stored in directory: /root/.cache/pip/wheels/50/a7/f7/d987583cd3b9bec683f517206b66b259dfb9b67ee043ce7ac3\n",
            "  Building wheel for keras-bert (setup.py) ... \u001b[?25l\u001b[?25hdone\n",
            "  Created wheel for keras-bert: filename=keras_bert-0.89.0-py3-none-any.whl size=33516 sha256=684587092b3f3634c561827e81f5ac30c2a22f8819559dc4abe288606bd3710a\n",
            "  Stored in directory: /root/.cache/pip/wheels/a1/34/ed/6bbd71716d7bcea30d75e8bc5aeb94f4cb52636295c8343534\n",
            "  Building wheel for keras-transformer (setup.py) ... \u001b[?25l\u001b[?25hdone\n",
            "  Created wheel for keras-transformer: filename=keras_transformer-0.40.0-py3-none-any.whl size=12304 sha256=7d27f2b1a8d433a4768f883d8582412eaf3fad100556174cba746e7097721b3d\n",
            "  Stored in directory: /root/.cache/pip/wheels/07/cd/a7/a8fa93f7e177eee0101fed63179f7a2fa3b53671ffaad82bfd\n",
            "  Building wheel for keras-embed-sim (setup.py) ... \u001b[?25l\u001b[?25hdone\n",
            "  Created wheel for keras-embed-sim: filename=keras_embed_sim-0.10.0-py3-none-any.whl size=3959 sha256=fc1194f313f68358c4c0213911647f776a3b9ec386ff156ea26bf37b5de214d7\n",
            "  Stored in directory: /root/.cache/pip/wheels/59/bd/9a/ec6e575aaa50687d7af968bde7ce710b542eeaa9ee7978d4ba\n",
            "  Building wheel for keras-layer-normalization (setup.py) ... \u001b[?25l\u001b[?25hdone\n",
            "  Created wheel for keras-layer-normalization: filename=keras_layer_normalization-0.16.0-py3-none-any.whl size=4668 sha256=347f57694069371ffaac603f6df9f41556f21481271b3b55cda7fc90c1fa5fd9\n",
            "  Stored in directory: /root/.cache/pip/wheels/d7/2b/f4/28f4bab995fa99c26b761bc7f9aeb5bf6c81e9be6ccd0b853b\n",
            "  Building wheel for keras-multi-head (setup.py) ... \u001b[?25l\u001b[?25hdone\n",
            "  Created wheel for keras-multi-head: filename=keras_multi_head-0.29.0-py3-none-any.whl size=14993 sha256=5fd2eb55946faf88959f308aedbf4e6d88280f337a5427734ba93001515860bf\n",
            "  Stored in directory: /root/.cache/pip/wheels/91/eb/bc/ce4bb467f5a7db6727f148f70bb0e52a62ef7edd41a19c8bdd\n",
            "  Building wheel for keras-pos-embd (setup.py) ... \u001b[?25l\u001b[?25hdone\n",
            "  Created wheel for keras-pos-embd: filename=keras_pos_embd-0.13.0-py3-none-any.whl size=6961 sha256=4ad58f5cf2513ca921b1eaf365f38524c41affef34f0ae43b8b01d2d6fdf131d\n",
            "  Stored in directory: /root/.cache/pip/wheels/91/c4/ff/7e13e4f102c3b7d73ff075a50fe3266f3ec2de898d5493a8a2\n",
            "  Building wheel for keras-position-wise-feed-forward (setup.py) ... \u001b[?25l\u001b[?25hdone\n",
            "  Created wheel for keras-position-wise-feed-forward: filename=keras_position_wise_feed_forward-0.8.0-py3-none-any.whl size=4983 sha256=b59a57c20b76784977143e69ce5695f6e52b9cfdfa84e67540b3f86fd6a5fc13\n",
            "  Stored in directory: /root/.cache/pip/wheels/f2/15/39/59861ed531ef6c7c75810500eb22c68a425f82dde31d68630a\n",
            "  Building wheel for keras-self-attention (setup.py) ... \u001b[?25l\u001b[?25hdone\n",
            "  Created wheel for keras-self-attention: filename=keras_self_attention-0.51.0-py3-none-any.whl size=18913 sha256=5c346f680e14a19274b8fee2cdecd73aa63377428bf08c24762637a4592740b5\n",
            "  Stored in directory: /root/.cache/pip/wheels/ac/13/2d/3de7c76f618a8d162884ac5b726a8c2242ad88afa370f1e62f\n",
            "  Building wheel for langdetect (setup.py) ... \u001b[?25l\u001b[?25hdone\n",
            "  Created wheel for langdetect: filename=langdetect-1.0.9-py3-none-any.whl size=993242 sha256=5a16771bdacafa9efe73bbfa74d3c843a530c39bb63e68aae9bd5739a22afa2e\n",
            "  Stored in directory: /root/.cache/pip/wheels/13/c7/b0/79f66658626032e78fc1a83103690ef6797d551cb22e56e734\n",
            "  Building wheel for seqeval (setup.py) ... \u001b[?25l\u001b[?25hdone\n",
            "  Created wheel for seqeval: filename=seqeval-1.2.2-py3-none-any.whl size=16179 sha256=200b45e5f0c6c1f75ea46da5087a751123ba664d0cb5e2844d742a1a2c90c8fb\n",
            "  Stored in directory: /root/.cache/pip/wheels/ad/5c/ba/05fa33fa5855777b7d686e843ec07452f22a66a138e290e732\n",
            "Successfully built ktrain networkx scikit-learn keras-bert keras-transformer keras-embed-sim keras-layer-normalization keras-multi-head keras-pos-embd keras-position-wise-feed-forward keras-self-attention langdetect seqeval\n",
            "Installing collected packages: keras-self-attention, keras-position-wise-feed-forward, keras-pos-embd, keras-multi-head, keras-layer-normalization, keras-embed-sim, scikit-learn, keras-transformer, seqeval, networkx, langdetect, keras-bert, cchardet, ktrain\n",
            "  Attempting uninstall: scikit-learn\n",
            "    Found existing installation: scikit-learn 1.0.2\n",
            "    Uninstalling scikit-learn-1.0.2:\n",
            "      Successfully uninstalled scikit-learn-1.0.2\n",
            "  Attempting uninstall: networkx\n",
            "    Found existing installation: networkx 2.6.3\n",
            "    Uninstalling networkx-2.6.3:\n",
            "      Successfully uninstalled networkx-2.6.3\n",
            "\u001b[31mERROR: pip's dependency resolver does not currently take into account all the packages that are installed. This behaviour is the source of the following dependency conflicts.\n",
            "yellowbrick 1.5 requires scikit-learn>=1.0.0, but you have scikit-learn 0.21.3 which is incompatible.\n",
            "imbalanced-learn 0.8.1 requires scikit-learn>=0.24, but you have scikit-learn 0.21.3 which is incompatible.\u001b[0m\n",
            "Successfully installed cchardet-2.1.7 keras-bert-0.89.0 keras-embed-sim-0.10.0 keras-layer-normalization-0.16.0 keras-multi-head-0.29.0 keras-pos-embd-0.13.0 keras-position-wise-feed-forward-0.8.0 keras-self-attention-0.51.0 keras-transformer-0.40.0 ktrain-0.7.2 langdetect-1.0.9 networkx-2.3 scikit-learn-0.21.3 seqeval-1.2.2\n",
            "using Keras version: 2.9.0\n"
          ]
        },
        {
          "output_type": "error",
          "ename": "AttributeError",
          "evalue": "ignored",
          "traceback": [
            "\u001b[0;31m---------------------------------------------------------------------------\u001b[0m",
            "\u001b[0;31mAttributeError\u001b[0m                            Traceback (most recent call last)",
            "\u001b[0;32m<ipython-input-25-a26fcb4f67d5>\u001b[0m in \u001b[0;36m<module>\u001b[0;34m\u001b[0m\n\u001b[1;32m      5\u001b[0m \u001b[0;34m\u001b[0m\u001b[0m\n\u001b[1;32m      6\u001b[0m \u001b[0;31m# import ktrain and the ktrain.text modules\u001b[0m\u001b[0;34m\u001b[0m\u001b[0;34m\u001b[0m\u001b[0;34m\u001b[0m\u001b[0m\n\u001b[0;32m----> 7\u001b[0;31m \u001b[0;32mimport\u001b[0m \u001b[0mktrain\u001b[0m\u001b[0;34m\u001b[0m\u001b[0;34m\u001b[0m\u001b[0m\n\u001b[0m\u001b[1;32m      8\u001b[0m \u001b[0;32mfrom\u001b[0m \u001b[0mktrain\u001b[0m \u001b[0;32mimport\u001b[0m \u001b[0mtext\u001b[0m\u001b[0;34m\u001b[0m\u001b[0;34m\u001b[0m\u001b[0m\n\u001b[1;32m      9\u001b[0m \u001b[0;32mimport\u001b[0m \u001b[0mrandom\u001b[0m\u001b[0;34m\u001b[0m\u001b[0;34m\u001b[0m\u001b[0m\n",
            "\u001b[0;32m/usr/local/lib/python3.8/dist-packages/ktrain/__init__.py\u001b[0m in \u001b[0;36m<module>\u001b[0;34m\u001b[0m\n\u001b[1;32m      1\u001b[0m \u001b[0;32mfrom\u001b[0m \u001b[0;34m.\u001b[0m\u001b[0mversion\u001b[0m \u001b[0;32mimport\u001b[0m \u001b[0m__version__\u001b[0m\u001b[0;34m\u001b[0m\u001b[0;34m\u001b[0m\u001b[0m\n\u001b[0;32m----> 2\u001b[0;31m \u001b[0;32mfrom\u001b[0m \u001b[0;34m.\u001b[0m\u001b[0mimports\u001b[0m \u001b[0;32mimport\u001b[0m \u001b[0;34m*\u001b[0m\u001b[0;34m\u001b[0m\u001b[0;34m\u001b[0m\u001b[0m\n\u001b[0m\u001b[1;32m      3\u001b[0m \u001b[0;32mfrom\u001b[0m \u001b[0;34m.\u001b[0m\u001b[0mcore\u001b[0m \u001b[0;32mimport\u001b[0m \u001b[0mArrayLearner\u001b[0m\u001b[0;34m,\u001b[0m \u001b[0mGenLearner\u001b[0m\u001b[0;34m,\u001b[0m \u001b[0mget_predictor\u001b[0m\u001b[0;34m,\u001b[0m \u001b[0mload_predictor\u001b[0m\u001b[0;34m,\u001b[0m \u001b[0mrelease_gpu_memory\u001b[0m\u001b[0;34m\u001b[0m\u001b[0;34m\u001b[0m\u001b[0m\n\u001b[1;32m      4\u001b[0m \u001b[0;32mfrom\u001b[0m \u001b[0;34m.\u001b[0m\u001b[0mvision\u001b[0m\u001b[0;34m.\u001b[0m\u001b[0mlearner\u001b[0m \u001b[0;32mimport\u001b[0m \u001b[0mImageClassLearner\u001b[0m\u001b[0;34m\u001b[0m\u001b[0;34m\u001b[0m\u001b[0m\n\u001b[1;32m      5\u001b[0m \u001b[0;32mfrom\u001b[0m \u001b[0;34m.\u001b[0m\u001b[0mtext\u001b[0m\u001b[0;34m.\u001b[0m\u001b[0mlearner\u001b[0m \u001b[0;32mimport\u001b[0m \u001b[0mBERTTextClassLearner\u001b[0m\u001b[0;34m\u001b[0m\u001b[0;34m\u001b[0m\u001b[0m\n",
            "\u001b[0;32m/usr/local/lib/python3.8/dist-packages/ktrain/imports.py\u001b[0m in \u001b[0;36m<module>\u001b[0;34m\u001b[0m\n\u001b[1;32m     99\u001b[0m \u001b[0mplot_model\u001b[0m \u001b[0;34m=\u001b[0m \u001b[0mkeras\u001b[0m\u001b[0;34m.\u001b[0m\u001b[0mutils\u001b[0m\u001b[0;34m.\u001b[0m\u001b[0mplot_model\u001b[0m\u001b[0;34m\u001b[0m\u001b[0;34m\u001b[0m\u001b[0m\n\u001b[1;32m    100\u001b[0m \u001b[0mto_categorical\u001b[0m \u001b[0;34m=\u001b[0m \u001b[0mkeras\u001b[0m\u001b[0;34m.\u001b[0m\u001b[0mutils\u001b[0m\u001b[0;34m.\u001b[0m\u001b[0mto_categorical\u001b[0m\u001b[0;34m\u001b[0m\u001b[0;34m\u001b[0m\u001b[0m\n\u001b[0;32m--> 101\u001b[0;31m \u001b[0mmulti_gpu_model\u001b[0m \u001b[0;34m=\u001b[0m \u001b[0mkeras\u001b[0m\u001b[0;34m.\u001b[0m\u001b[0mutils\u001b[0m\u001b[0;34m.\u001b[0m\u001b[0mmulti_gpu_model\u001b[0m\u001b[0;34m\u001b[0m\u001b[0;34m\u001b[0m\u001b[0m\n\u001b[0m\u001b[1;32m    102\u001b[0m \u001b[0mactivations\u001b[0m \u001b[0;34m=\u001b[0m \u001b[0mkeras\u001b[0m\u001b[0;34m.\u001b[0m\u001b[0mactivations\u001b[0m\u001b[0;34m\u001b[0m\u001b[0;34m\u001b[0m\u001b[0m\n\u001b[1;32m    103\u001b[0m \u001b[0msigmoid\u001b[0m \u001b[0;34m=\u001b[0m \u001b[0mkeras\u001b[0m\u001b[0;34m.\u001b[0m\u001b[0mactivations\u001b[0m\u001b[0;34m.\u001b[0m\u001b[0msigmoid\u001b[0m\u001b[0;34m\u001b[0m\u001b[0;34m\u001b[0m\u001b[0m\n",
            "\u001b[0;32m/usr/local/lib/python3.8/dist-packages/tensorflow/python/util/module_wrapper.py\u001b[0m in \u001b[0;36m_getattr\u001b[0;34m(self, name)\u001b[0m\n\u001b[1;32m    230\u001b[0m     \"\"\"\n\u001b[1;32m    231\u001b[0m     \u001b[0;32mtry\u001b[0m\u001b[0;34m:\u001b[0m\u001b[0;34m\u001b[0m\u001b[0;34m\u001b[0m\u001b[0m\n\u001b[0;32m--> 232\u001b[0;31m       \u001b[0mattr\u001b[0m \u001b[0;34m=\u001b[0m \u001b[0mgetattr\u001b[0m\u001b[0;34m(\u001b[0m\u001b[0mself\u001b[0m\u001b[0;34m.\u001b[0m\u001b[0m_tfmw_wrapped_module\u001b[0m\u001b[0;34m,\u001b[0m \u001b[0mname\u001b[0m\u001b[0;34m)\u001b[0m\u001b[0;34m\u001b[0m\u001b[0;34m\u001b[0m\u001b[0m\n\u001b[0m\u001b[1;32m    233\u001b[0m     \u001b[0;32mexcept\u001b[0m \u001b[0mAttributeError\u001b[0m\u001b[0;34m:\u001b[0m\u001b[0;34m\u001b[0m\u001b[0;34m\u001b[0m\u001b[0m\n\u001b[1;32m    234\u001b[0m     \u001b[0;31m# Placeholder for Google-internal contrib error\u001b[0m\u001b[0;34m\u001b[0m\u001b[0;34m\u001b[0m\u001b[0;34m\u001b[0m\u001b[0m\n",
            "\u001b[0;31mAttributeError\u001b[0m: module 'keras.api._v1.keras.utils' has no attribute 'multi_gpu_model'"
          ]
        }
      ]
    },
    {
      "cell_type": "code",
      "metadata": {
        "id": "Fa6p6arifSL0"
      },
      "source": [
        " \n",
        "# fetch the dataset using scikit-learn\n",
        "categories = ['alt.atheism', 'soc.religion.christian',\n",
        "             'comp.graphics', 'sci.med', 'comp.sys.mac.hardware', 'sci.space', 'misc.forsale', 'rec.motorcycles']\n",
        "from sklearn.datasets import fetch_20newsgroups\n",
        "train_b = fetch_20newsgroups(subset='train',\n",
        "   categories=categories, shuffle=True, random_state=42)\n",
        "test_b = fetch_20newsgroups(subset='test',\n",
        "   categories=categories, shuffle=True, random_state=42)\n",
        "\n",
        "print('size of training set: %s' % (len(train_b['data'])))\n",
        "print('size of validation set: %s' % (len(test_b['data'])))"
      ],
      "execution_count": null,
      "outputs": []
    },
    {
      "cell_type": "code",
      "metadata": {
        "id": "SzthixM6hCcq"
      },
      "source": [
        "import copy \n",
        "train_IsTopiconHealth = copy.deepcopy(train_b)  "
      ],
      "execution_count": null,
      "outputs": []
    },
    {
      "cell_type": "code",
      "metadata": {
        "id": "m9STE4dwjeGs"
      },
      "source": [
        "for i in range(0, len(train_b['data'])  ):\n",
        "  aLISTOFDEPRESSIONSITATION = getaRandomword(LISTOFDEPRESSIONSITATION)\n",
        "  aLISTOFDEPRESSIONTHOUGHTS = getaRandomword(LISTOFDEPRESSIONTHOUGHTS)\n",
        "  aLISTOFCBTBELFIFS = getaRandomword(LISTOFCBTBELFIFS)\n",
        "  aLISTOFCBTBELFIFSCONNECTIONS = getaRandomword(LISTOFCBTBELFIFSCONNECTIONS)\n",
        "  asentance = getaRandomsequence(aLISTOFDEPRESSIONSITATION , aLISTOFDEPRESSIONTHOUGHTS)  \n",
        "  LabelIsThisSentanceTalkingAboutHealth = 0\n",
        "  if i%2 == 0 :\n",
        "    LabelIsThisSentanceTalkingAboutHealth = 1\n",
        "    train_IsTopiconHealth.target[i] =  LabelIsThisSentanceTalkingAboutHealth\n",
        "    arandomnumber = random.randint(0,1)\n",
        "    if arandomnumber == 0:\n",
        "      asentance = getaRandomsequence(aLISTOFDEPRESSIONSITATION , aLISTOFDEPRESSIONTHOUGHTS)  \n",
        "    else :\n",
        "      asentance =   aLISTOFDEPRESSIONTHOUGHTS\n",
        "    \n",
        "    train_IsTopiconHealth.data[i] = asentance\n",
        "\n",
        "  if i%2 == 1 :\n",
        "    LabelIsThisSentanceTalkingAboutHealth = 0\n",
        "    train_IsTopiconHealth.target[i] =  LabelIsThisSentanceTalkingAboutHealth\n",
        "    asentance =  aLISTOFDEPRESSIONSITATION \n",
        "    train_IsTopiconHealth.data[i] = asentance\n",
        "\n",
        "\n",
        "\n",
        "\n"
      ],
      "execution_count": null,
      "outputs": []
    },
    {
      "cell_type": "code",
      "metadata": {
        "id": "xziHixNlkmIc"
      },
      "source": [
        "for i in range(0, 10 ):\n",
        "  print(str(train_IsTopiconHealth.target[i]) + '  ' + str(train_IsTopiconHealth.data[i]))"
      ],
      "execution_count": null,
      "outputs": []
    },
    {
      "cell_type": "code",
      "metadata": {
        "id": "XGRZRY4XmT1k"
      },
      "source": [
        "x_train = train_IsTopiconHealth.data\n",
        "y_train = train_IsTopiconHealth.target\n",
        "\n",
        "x_test = train_IsTopiconHealth.data\n",
        "y_test = train_IsTopiconHealth.target\n",
        "categoriesNEW = [ 'NomentionofDepression', 'DepressionThoughts']\n",
        "\n",
        "\n",
        "\n",
        "(x_train,  y_train), (x_test, y_test), preproc = text.texts_from_array(x_train=x_train, y_train=y_train,\n",
        "                                                                       x_test=x_test, y_test=y_test,\n",
        "                                                                       class_names=categoriesNEW,\n",
        "                                                                       preprocess_mode='bert',\n",
        "                                                                       maxlen=128, \n",
        "                                                                       max_features=9500)\n",
        "\n",
        "model_IsTopiconTaste = text.text_classifier('bert', train_data=(x_train, y_train), preproc=preproc)\n",
        "learner_IsTopiconTaste = ktrain.get_learner(model_IsTopiconTaste, train_data=(x_train, y_train), batch_size=8)\n",
        "\n",
        "learner_IsTopiconTaste.fit_onecycle(2e-5, 1)\n",
        "\n"
      ],
      "execution_count": null,
      "outputs": []
    },
    {
      "cell_type": "code",
      "metadata": {
        "id": "49lUjVk7paHv"
      },
      "source": [
        "predictor_TastyorNOT = ktrain.get_predictor(learner_IsTopiconTaste.model, preproc)\n",
        "\n"
      ],
      "execution_count": null,
      "outputs": []
    },
    {
      "cell_type": "code",
      "metadata": {
        "id": "6p7LTqCOpRDp"
      },
      "source": [
        "print(predictor_TastyorNOT.predict('lost job'))\n"
      ],
      "execution_count": null,
      "outputs": []
    },
    {
      "cell_type": "markdown",
      "metadata": {
        "id": "y9zAy-mTqEXD"
      },
      "source": [
        "# Run with BERT-GPT2 cascade"
      ]
    },
    {
      "cell_type": "code",
      "metadata": {
        "id": "VJBgVgwcqIEO",
        "cellView": "form"
      },
      "source": [
        "#@title The user speaks or types her thoughts into her smartphone AI keyboard. { run: \"auto\" }\n",
        " \n",
        "user_current_thoughts = 'i got  fired.  I am feeling alone and tired for many days' #@param {type:\"string\"}\n",
        "\n",
        "prediction = predictor_TastyorNOT.predict(user_current_thoughts)\n",
        "\n",
        "\n",
        "user_current_thoughts = \"<|startoftext|> \" +  user_current_thoughts\n",
        "\n",
        "if prediction == 'DepressionThoughts' :\n",
        "\n",
        "  gpt2.generate(sess, run_name='run2',\n",
        "             length=100,\n",
        "             prefix=user_current_thoughts,\n",
        "             truncate=\"<|endoftext|>\",\n",
        "             include_prefix=False)\n",
        "else:\n",
        "  print(' <Therapy AI yet to be activated>')\n",
        "\n"
      ],
      "execution_count": null,
      "outputs": []
    },
    {
      "cell_type": "markdown",
      "metadata": {
        "id": "zD3pfywmW4PX"
      },
      "source": [
        "# Visuvalization of conditional language modelling for Cognitive Behaviour Therapy"
      ]
    },
    {
      "cell_type": "code",
      "metadata": {
        "id": "B_unQFFUZ8-2"
      },
      "source": [
        "gemeratedtext = gpt2.generate(sess, run_name='run2',\n",
        "             length=100,\n",
        "             prefix=userthoughts,\n",
        "             truncate=\"<|endoftext|>\",\n",
        "             include_prefix=True)\n"
      ],
      "execution_count": null,
      "outputs": []
    },
    {
      "cell_type": "code",
      "metadata": {
        "id": "p-e4zYJwbwQv"
      },
      "source": [
        "newstring\".format(\"John\",36)"
      ],
      "execution_count": null,
      "outputs": []
    },
    {
      "cell_type": "code",
      "metadata": {
        "id": "xNFCHxd0bXP_"
      },
      "source": [
        "type(gemeratedtext)"
      ],
      "execution_count": null,
      "outputs": []
    },
    {
      "cell_type": "code",
      "metadata": {
        "id": "SV035HCabEoS"
      },
      "source": [
        "mystring = gemeratedtext.replace(\"<|startoftext|>\",'')"
      ],
      "execution_count": null,
      "outputs": []
    },
    {
      "cell_type": "code",
      "metadata": {
        "id": "HD_8FjspaHHp"
      },
      "source": [
        "print(gemeratedtext)"
      ],
      "execution_count": null,
      "outputs": []
    },
    {
      "cell_type": "code",
      "metadata": {
        "id": "ZEiBxQIuXH-E"
      },
      "source": [
        "import sys\n",
        "!test -d bertviz_repo && echo \"FYI: bertviz_repo directory already exists, to pull latest version uncomment this line: !rm -r bertviz_repo\"\n",
        "# !rm -r bertviz_repo # Uncomment if you need a clean pull from repo\n",
        "!test -d bertviz_repo || git clone https://github.com/jessevig/bertviz bertviz_repo\n",
        "if not 'bertviz_repo' in sys.path:\n",
        "  sys.path += ['bertviz_repo']\n",
        "!pip install regex\n",
        "!pip install transformers"
      ],
      "execution_count": null,
      "outputs": []
    },
    {
      "cell_type": "code",
      "metadata": {
        "id": "y3sV19_PXJn9"
      },
      "source": [
        "from bertviz import head_view\n",
        "from transformers import GPT2Tokenizer, GPT2Model"
      ],
      "execution_count": null,
      "outputs": []
    },
    {
      "cell_type": "code",
      "metadata": {
        "id": "ZV18l1jFXM3G"
      },
      "source": [
        "def call_html():\n",
        "  import IPython\n",
        "  display(IPython.core.display.HTML('''\n",
        "        <script src=\"/static/components/requirejs/require.js\"></script>\n",
        "        <script>\n",
        "          requirejs.config({\n",
        "            paths: {\n",
        "              base: '/static/base',\n",
        "              \"d3\": \"https://cdnjs.cloudflare.com/ajax/libs/d3/3.5.8/d3.min\",\n",
        "              jquery: '//ajax.googleapis.com/ajax/libs/jquery/2.0.0/jquery.min',\n",
        "            },\n",
        "          });\n",
        "        </script>\n",
        "        '''))"
      ],
      "execution_count": null,
      "outputs": []
    },
    {
      "cell_type": "code",
      "metadata": {
        "id": "hnppoQjuZ75_"
      },
      "source": [],
      "execution_count": null,
      "outputs": []
    },
    {
      "cell_type": "code",
      "metadata": {
        "id": "g6fVMkrxXOkx"
      },
      "source": [
        "model_version = 'gpt2'\n",
        "model = GPT2Model.from_pretrained(model_version, output_attentions=True)\n",
        "tokenizer = GPT2Tokenizer.from_pretrained(model_version)\n",
        "\n",
        "text = gemeratedtext\n",
        "inputs = tokenizer.encode_plus(text, return_tensors='pt', add_special_tokens=False)\n",
        "input_ids = inputs['input_ids']\n",
        "attention = model(input_ids)[-1]\n",
        "input_id_list = input_ids[0].tolist() # Batch index 0\n",
        "tokens = tokenizer.convert_ids_to_tokens(input_id_list)\n",
        "call_html()\n",
        "head_view(attention, tokens)"
      ],
      "execution_count": null,
      "outputs": []
    }
  ]
}